{
  "cells": [
    {
      "cell_type": "markdown",
      "metadata": {
        "id": "7SXpaKwwGe5x"
      },
      "source": [
        "# TM10007 Assignment template -- ECG data"
      ]
    },
    {
      "cell_type": "markdown",
      "metadata": {
        "id": "f-GtqRVRtue-"
      },
      "source": [
        "## Data loading and cleaning\n",
        "\n",
        "Below are functions to load the dataset of your choice. After that, it is all up to you to create and evaluate a classification method. Beware, there may be missing values in these datasets. Good luck!"
      ]
    },
    {
      "cell_type": "code",
      "execution_count": 9,
      "metadata": {
        "colab": {
          "base_uri": "https://localhost:8080/"
        },
        "id": "CiDn2Sk-VWqE",
        "outputId": "8424b745-ac90-48f6-bf04-b975acc2afbf"
      },
      "outputs": [
        {
          "name": "stdout",
          "output_type": "stream",
          "text": [
            "The number of samples: 827\n",
            "The number of columns: 9001\n"
          ]
        }
      ],
      "source": [
        "import zipfile\n",
        "import pandas as pd\n",
        "import os\n",
        "\n",
        "with zipfile.ZipFile(os.path.join('tm10007_ml','ecg','ecg_data.zip'), 'r') as zip_ref:\n",
        "    zip_ref.extractall('/content/tm10007_ml/ecg')\n",
        "\n",
        "data = pd.read_csv('/content/tm10007_ml/ecg/ecg_data.csv', index_col=0)\n",
        "\n",
        "print(f'The number of samples: {len(data.index)}')\n",
        "print(f'The number of columns: {len(data.columns)}')"
      ]
    },
    {
      "cell_type": "code",
      "execution_count": 2,
      "metadata": {},
      "outputs": [],
      "source": [
        "# General packages\n",
        "import numpy as np\n",
        "import matplotlib.pyplot as plt\n",
        "from sklearn import datasets as ds\n",
        "from sklearn import metrics\n",
        "from sklearn import model_selection\n",
        "\n",
        "# Classifiers\n",
        "from sklearn.neighbors import KNeighborsClassifier\n",
        "from sklearn.ensemble import RandomForestClassifier\n",
        "from sklearn.svm import SVC\n",
        "from sklearn.feature_selection import RFECV, SelectKBest, SelectFdr, chi2, f_classif\n",
        "from sklearn.pipeline import Pipeline\n",
        "from sklearn.preprocessing import StandardScaler, MinMaxScaler, RobustScaler\n",
        "from sklearn.model_selection import RandomizedSearchCV\n",
        "from sklearn import svm\n",
        "from sklearn.metrics import confusion_matrix, ConfusionMatrixDisplay\n",
        "from sklearn.metrics import accuracy_score, f1_score, precision_score, recall_score, roc_auc_score"
      ]
    },
    {
      "cell_type": "code",
      "execution_count": 3,
      "metadata": {},
      "outputs": [
        {
          "name": "stdout",
          "output_type": "stream",
          "text": [
            "(207, 9000)\n",
            "(620, 9000)\n"
          ]
        }
      ],
      "source": [
        "labels = data.iloc[:,-1]\n",
        "x = data.iloc[:,:-1]\n",
        "\n",
        "X_train, X_test, y_train, y_test = model_selection.train_test_split(x, labels, test_size=0.25, stratify=labels, random_state=42)\n",
        "print(X_test.shape)\n",
        "print(X_train.shape)"
      ]
    },
    {
      "cell_type": "code",
      "execution_count": 4,
      "metadata": {},
      "outputs": [
        {
          "data": {
            "image/png": "[encoded data removed]",
            "text/plain": [
              "<Figure size 640x480 with 2 Axes>"
            ]
          },
          "metadata": {},
          "output_type": "display_data"
        },
        {
          "name": "stdout",
          "output_type": "stream",
          "text": [
            "Accuracy:  0.821\n",
            "Precision: 0.000\n",
            "Recall:    0.000\n",
            "F1 Score:  0.000\n",
            "AUC Score: 0.713\n"
          ]
        }
      ],
      "source": [
        "#Baseline \n",
        "#Baseline model trainen, print roc_auc score \n",
        "svm= SVC(probability=True)\n",
        "svm.fit(X_train, y_train)\n",
        "y_pred = svm.predict(X_test)\n",
        "y_proba = svm.predict_proba(X_test)[:, 1]\n",
        "\n",
        "cm = confusion_matrix(y_test, y_pred)\n",
        "disp = ConfusionMatrixDisplay(confusion_matrix=cm, display_labels=svm.classes_)\n",
        "disp.plot(cmap=plt.cm.Blues)\n",
        "plt.show()\n",
        "\n",
        "\n",
        "accuracy = accuracy_score(y_test, y_pred)\n",
        "precision = precision_score(y_test, y_pred, zero_division=0)\n",
        "recall = recall_score(y_test, y_pred, zero_division=0)\n",
        "f1 = f1_score(y_test, y_pred, zero_division=0)\n",
        "auc = roc_auc_score(y_test, y_proba)\n",
        "\n",
        "print(f\"Accuracy:  {accuracy:.3f}\")\n",
        "print(f\"Precision: {precision:.3f}\")\n",
        "print(f\"Recall:    {recall:.3f}\")\n",
        "print(f\"F1 Score:  {f1:.3f}\")\n",
        "print(f\"AUC Score: {auc:.3f}\")"
      ]
    },
    {
      "cell_type": "code",
      "execution_count": 6,
      "metadata": {},
      "outputs": [
        {
          "ename": "AttributeError",
          "evalue": "'SVC' object has no attribute 'SVC'",
          "output_type": "error",
          "traceback": [
            "\u001b[31m---------------------------------------------------------------------------\u001b[39m",
            "\u001b[31mAttributeError\u001b[39m                            Traceback (most recent call last)",
            "\u001b[36mCell\u001b[39m\u001b[36m \u001b[39m\u001b[32mIn[6]\u001b[39m\u001b[32m, line 16\u001b[39m\n\u001b[32m      1\u001b[39m pipe = Pipeline([(\u001b[33m'\u001b[39m\u001b[33mscaler\u001b[39m\u001b[33m'\u001b[39m, StandardScaler()),\n\u001b[32m      2\u001b[39m                  (\u001b[33m'\u001b[39m\u001b[33mfeature_selection\u001b[39m\u001b[33m'\u001b[39m, RFECV(SVC(kernel=\u001b[33m'\u001b[39m\u001b[33mlinear\u001b[39m\u001b[33m'\u001b[39m, gamma=\u001b[33m'\u001b[39m\u001b[33mscale\u001b[39m\u001b[33m'\u001b[39m), step=\u001b[32m100\u001b[39m, cv=\u001b[32m5\u001b[39m)),\n\u001b[32m      3\u001b[39m                  (\u001b[33m'\u001b[39m\u001b[33mclassifier\u001b[39m\u001b[33m'\u001b[39m, SVC(kernel=\u001b[33m'\u001b[39m\u001b[33mlinear\u001b[39m\u001b[33m'\u001b[39m, gamma=\u001b[33m'\u001b[39m\u001b[33mscale\u001b[39m\u001b[33m'\u001b[39m))\n\u001b[32m      4\u001b[39m                     ])\n\u001b[32m      6\u001b[39m parameters = {\n\u001b[32m      7\u001b[39m     \u001b[33m'\u001b[39m\u001b[33mC\u001b[39m\u001b[33m'\u001b[39m:            np.arange(\u001b[32m0.001\u001b[39m, \u001b[32m1\u001b[39m).tolist(),\n\u001b[32m      8\u001b[39m     \u001b[33m'\u001b[39m\u001b[33mkernel\u001b[39m\u001b[33m'\u001b[39m:       [\u001b[33m'\u001b[39m\u001b[33mlinear\u001b[39m\u001b[33m'\u001b[39m, \u001b[33m'\u001b[39m\u001b[33mpoly\u001b[39m\u001b[33m'\u001b[39m, \u001b[33m'\u001b[39m\u001b[33mrbf\u001b[39m\u001b[33m'\u001b[39m, \u001b[33m'\u001b[39m\u001b[33msigmoid\u001b[39m\u001b[33m'\u001b[39m],\n\u001b[32m   (...)\u001b[39m\u001b[32m     11\u001b[39m     \u001b[33m'\u001b[39m\u001b[33mcoef0\u001b[39m\u001b[33m'\u001b[39m:        np.linspace(\u001b[32m0\u001b[39m, \u001b[32m1\u001b[39m, \u001b[32m10\u001b[39m).tolist(), \u001b[38;5;66;03m# only for poly and sigmoid kernels\u001b[39;00m\n\u001b[32m     12\u001b[39m     } \n\u001b[32m     15\u001b[39m model = RandomizedSearchCV(\n\u001b[32m---> \u001b[39m\u001b[32m16\u001b[39m     estimator=\u001b[43msvm\u001b[49m\u001b[43m.\u001b[49m\u001b[43mSVC\u001b[49m(),\n\u001b[32m     17\u001b[39m     param_distributions=parameters,\n\u001b[32m     18\u001b[39m     n_iter=\u001b[32m50\u001b[39m,\n\u001b[32m     19\u001b[39m     n_jobs=\u001b[32m5\u001b[39m,\n\u001b[32m     20\u001b[39m     cv=\u001b[32m5\u001b[39m,\n\u001b[32m     21\u001b[39m     verbose=\u001b[32m1\u001b[39m,\n\u001b[32m     22\u001b[39m     refit=\u001b[38;5;28;01mTrue\u001b[39;00m,\n\u001b[32m     23\u001b[39m     scoring=\u001b[33m'\u001b[39m\u001b[33mroc_auc\u001b[39m\u001b[33m'\u001b[39m  \n\u001b[32m     24\u001b[39m )\n\u001b[32m     26\u001b[39m model.fit(X_train, y_train)\n\u001b[32m     28\u001b[39m \u001b[38;5;28mprint\u001b[39m(\u001b[33m\"\u001b[39m\u001b[33mBest estimator:\u001b[39m\u001b[33m\"\u001b[39m, model.best_estimator_ )\n",
            "\u001b[31mAttributeError\u001b[39m: 'SVC' object has no attribute 'SVC'"
          ]
        }
      ],
      "source": [
        "pipe = Pipeline([('scaler', StandardScaler()),\n",
        "                 ('feature_selection', RFECV(SVC(kernel='linear', gamma='scale'), step=100, cv=5)),\n",
        "                 ('classifier', SVC(kernel='linear', gamma='scale'))\n",
        "                    ])\n",
        "\n",
        "parameters = {\n",
        "    'C':            np.arange(0.001, 1).tolist(),\n",
        "    'kernel':       ['linear', 'poly', 'rbf', 'sigmoid'],\n",
        "    'gamma':      ['scale', 'auto'], # only for rbf, poly and sigmoid kernels\n",
        "    'degree':       [2, 3, 4, 5], # only for poly kernel\n",
        "    'coef0':        np.linspace(0, 1, 10).tolist(), # only for poly and sigmoid kernels\n",
        "    } \n",
        "\n",
        "\n",
        "model = RandomizedSearchCV(\n",
        "    estimator=svm.SVC(),\n",
        "    param_distributions=parameters,\n",
        "    n_iter=50,\n",
        "    n_jobs=5,\n",
        "    cv=5,\n",
        "    verbose=1,\n",
        "    refit=True,\n",
        "    scoring='roc_auc'  \n",
        ")\n",
        "\n",
        "model.fit(X_train, y_train)\n",
        "\n",
        "print(\"Best estimator:\", model.best_estimator_ )\n",
        "print(\"Best Score:\", model.best_score_)\n",
        "print(\"best parameters:\", model.best_params_)"
      ]
    },
    {
      "cell_type": "code",
      "execution_count": 8,
      "metadata": {},
      "outputs": [
        {
          "ename": "NameError",
          "evalue": "name 'model' is not defined",
          "output_type": "error",
          "traceback": [
            "\u001b[31m---------------------------------------------------------------------------\u001b[39m",
            "\u001b[31mNameError\u001b[39m                                 Traceback (most recent call last)",
            "\u001b[36mCell\u001b[39m\u001b[36m \u001b[39m\u001b[32mIn[8]\u001b[39m\u001b[32m, line 5\u001b[39m\n\u001b[32m      1\u001b[39m \u001b[38;5;28;01mfrom\u001b[39;00m\u001b[38;5;250m \u001b[39m\u001b[34;01msklearn\u001b[39;00m\u001b[34;01m.\u001b[39;00m\u001b[34;01mmodel_selection\u001b[39;00m\u001b[38;5;250m \u001b[39m\u001b[38;5;28;01mimport\u001b[39;00m learning_curve\n\u001b[32m      3\u001b[39m \u001b[38;5;66;03m#Learning curve\u001b[39;00m\n\u001b[32m      4\u001b[39m train_sizes, train_scores, test_scores = learning_curve(\n\u001b[32m----> \u001b[39m\u001b[32m5\u001b[39m     \u001b[43mmodel\u001b[49m.best_estimator_,\n\u001b[32m      6\u001b[39m     X_train,\n\u001b[32m      7\u001b[39m     y_train,\n\u001b[32m      8\u001b[39m     cv=\u001b[32m5\u001b[39m,\n\u001b[32m      9\u001b[39m     scoring=\u001b[33m'\u001b[39m\u001b[33mroc_auc\u001b[39m\u001b[33m'\u001b[39m,\n\u001b[32m     10\u001b[39m     train_sizes=np.linspace(\u001b[32m0.1\u001b[39m, \u001b[32m1.0\u001b[39m, \u001b[32m20\u001b[39m),\n\u001b[32m     11\u001b[39m     n_jobs=-\u001b[32m1\u001b[39m\n\u001b[32m     12\u001b[39m )\n\u001b[32m     14\u001b[39m train_scores_mean = np.mean(train_scores, axis=\u001b[32m1\u001b[39m)\n\u001b[32m     15\u001b[39m train_scores_std = np.std(train_scores, axis=\u001b[32m1\u001b[39m)\n",
            "\u001b[31mNameError\u001b[39m: name 'model' is not defined"
          ]
        }
      ],
      "source": [
        "from sklearn.model_selection import learning_curve\n",
        "\n",
        "#Learning curve\n",
        "train_sizes, train_scores, test_scores = learning_curve(\n",
        "    model.best_estimator_,\n",
        "    X_train,\n",
        "    y_train,\n",
        "    cv=5,\n",
        "    scoring='roc_auc',\n",
        "    train_sizes=np.linspace(0.1, 1.0, 20),\n",
        "    n_jobs=-1\n",
        ")\n",
        "\n",
        "train_scores_mean = np.mean(train_scores, axis=1)\n",
        "train_scores_std = np.std(train_scores, axis=1)\n",
        "test_scores_mean = np.mean(test_scores, axis=1)\n",
        "test_scores_std = np.std(test_scores, axis=1)\n",
        "\n",
        "plt.figure(figsize=(10, 6))\n",
        "plt.title(\"Learning Curve (SVM, ROC AUC)\")\n",
        "plt.xlabel(\"Number of training objectes\")\n",
        "plt.ylabel(\"ROC AUC Score\")\n",
        "\n",
        "plt.grid()\n",
        "\n",
        "plt.plot(train_sizes, train_scores_mean, 'o-', label=\"Training score\", color=\"blue\")\n",
        "plt.fill_between(train_sizes, train_scores_mean - train_scores_std,\n",
        "                 train_scores_mean + train_scores_std, alpha=0.1, color=\"blue\")\n",
        "\n",
        "plt.plot(train_sizes, test_scores_mean, 'o-', label=\"Cross-validation score\", color=\"green\")\n",
        "plt.fill_between(train_sizes, test_scores_mean - test_scores_std,\n",
        "                 test_scores_mean + test_scores_std, alpha=0.1, color=\"green\")\n",
        "\n",
        "plt.legend(loc=\"best\")\n",
        "plt.tight_layout()\n",
        "plt.show()"
      ]
    }
  ],
  "metadata": {
    "colab": {
      "include_colab_link": true,
      "name": "assignment.ipynb",
      "provenance": []
    },
    "kernelspec": {
      "display_name": "base",
      "language": "python",
      "name": "python3"
    },
    "language_info": {
      "codemirror_mode": {
        "name": "ipython",
        "version": 3
      },
      "file_extension": ".py",
      "mimetype": "text/x-python",
      "name": "python",
      "nbconvert_exporter": "python",
      "pygments_lexer": "ipython3",
      "version": "3.12.8"
    }
  },
  "nbformat": 4,
  "nbformat_minor": 0
}
