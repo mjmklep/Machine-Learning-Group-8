{
 "cells": [
  {
   "cell_type": "code",
   "execution_count": 6,
   "metadata": {},
   "outputs": [],
   "source": [
    "import zipfile\n",
    "import pandas as pd\n",
    "import os\n",
    "\n",
    "# General packages\n",
    "import numpy as np\n",
    "import matplotlib.pyplot as plt\n",
    "from sklearn import datasets as ds\n",
    "from sklearn import metrics\n",
    "from sklearn import model_selection\n",
    "\n",
    "# Classifiers\n",
    "from sklearn.neighbors import KNeighborsClassifier\n",
    "from sklearn.ensemble import RandomForestClassifier\n",
    "from sklearn.svm import SVC\n",
    "from sklearn.feature_selection import RFECV, SelectKBest, SelectFdr, chi2, f_classif, mutual_info_classif\n",
    "from sklearn.pipeline import Pipeline\n",
    "from sklearn.preprocessing import StandardScaler, MinMaxScaler, RobustScaler, PowerTransformer\n",
    "from sklearn.model_selection import RandomizedSearchCV, StratifiedKFold, learning_curve\n",
    "from sklearn import svm\n",
    "from sklearn.metrics import confusion_matrix, ConfusionMatrixDisplay\n",
    "from sklearn.metrics import accuracy_score, f1_score, precision_score, recall_score, roc_auc_score\n",
    "from scipy.stats import zscore"
   ]
  },
  {
   "cell_type": "code",
   "execution_count": 4,
   "metadata": {},
   "outputs": [],
   "source": [
    "# Load data\n",
    "with zipfile.ZipFile(os.path.join('tm10007_ml','ecg','ecg_data.zip'), 'r') as zip_ref:\n",
    "    zip_ref.extractall('/content/tm10007_ml/ecg')\n",
    "\n",
    "data = pd.read_csv('/content/tm10007_ml/ecg/ecg_data.csv', index_col=0)\n",
    "\n",
    "# Divide data into test and train\n",
    "labels = data.iloc[:,-1]\n",
    "x = data.iloc[:,:-1]\n",
    "\n",
    "X_train, X_test, y_train, y_test = model_selection.train_test_split(x, labels, test_size=0.25, stratify=labels, random_state=42)"
   ]
  },
  {
   "cell_type": "markdown",
   "metadata": {},
   "source": [
    "Check number of sick and not sick"
   ]
  },
  {
   "cell_type": "code",
   "execution_count": 20,
   "metadata": {},
   "outputs": [
    {
     "name": "stdout",
     "output_type": "stream",
     "text": [
      "681\n",
      "827\n"
     ]
    }
   ],
   "source": [
    "# number of sick and not sick\n",
    "count = 0\n",
    "for label in labels:\n",
    "    if label == 0:\n",
    "        count += 1\n",
    "\n",
    "print(count)\n",
    "print(len(labels))"
   ]
  },
  {
   "cell_type": "code",
   "execution_count": 11,
   "metadata": {},
   "outputs": [
    {
     "name": "stdout",
     "output_type": "stream",
     "text": [
      "Number of outliers per feature: [14 13  9  9  8 12  8  8 17  7  5 16  8 14  5  6 14  8  3  9  2  3  9  3\n",
      "  4  3  3  3  6 10  5  4  8  2  3  3  2  7  3  4  1  4  5  2  3  2  7  9\n",
      "  7 10]\n"
     ]
    }
   ],
   "source": [
    "# Calculate the Z-scores for each feature\n",
    "z_scores = np.abs(zscore(X_train.iloc[:, 0:50]))\n",
    "\n",
    "# Identify outliers (Z > 3 for each feature)\n",
    "outliers = (z_scores > 3)\n",
    "\n",
    "# Count the number of outliers for each feature\n",
    "outliers_count = np.sum(outliers, axis=0)\n",
    "print(f\"Number of outliers per feature: {outliers_count}\")"
   ]
  },
  {
   "cell_type": "markdown",
   "metadata": {},
   "source": [
    "Check for zero values in dataset"
   ]
  },
  {
   "cell_type": "code",
   "execution_count": null,
   "metadata": {},
   "outputs": [
    {
     "name": "stdout",
     "output_type": "stream",
     "text": [
      "Zero values present in the DataFrame:\n",
      "        0_0    0_1    0_2    0_3    0_4    0_5    0_6    0_7    0_8    0_9  \\\n",
      "0    False  False  False  False  False  False  False  False  False  False   \n",
      "1    False  False  False  False  False  False  False  False  False  False   \n",
      "2    False  False  False  False  False  False  False  False  False  False   \n",
      "3    False  False  False  False  False  False  False  False  False  False   \n",
      "4    False  False  False  False  False  False  False  False  False  False   \n",
      "..     ...    ...    ...    ...    ...    ...    ...    ...    ...    ...   \n",
      "822  False  False  False  False  False  False  False  False  False  False   \n",
      "823  False  False  False  False  False  False  False  False  False  False   \n",
      "824  False  False  False  False  False  False  False  False  False  False   \n",
      "825  False  False  False  False  False  False  False  False  False  False   \n",
      "826  False  False  False  False  False  False  False  False  False  False   \n",
      "\n",
      "     ...  11_740  11_741  11_742  11_743  11_744  11_745  11_746  11_747  \\\n",
      "0    ...   False   False   False   False   False   False   False   False   \n",
      "1    ...   False   False   False   False   False   False   False   False   \n",
      "2    ...   False   False   False   False   False   False   False   False   \n",
      "3    ...   False   False   False   False   False   False   False   False   \n",
      "4    ...   False   False   False   False   False   False   False   False   \n",
      "..   ...     ...     ...     ...     ...     ...     ...     ...     ...   \n",
      "822  ...   False   False   False   False   False   False   False   False   \n",
      "823  ...   False   False   False   False   False   False   False   False   \n",
      "824  ...   False   False   False   False   False   False   False   False   \n",
      "825  ...   False   False   False   False   False   False   False   False   \n",
      "826  ...   False   False   False   False   False   False   False   False   \n",
      "\n",
      "     11_748  11_749  \n",
      "0     False   False  \n",
      "1     False   False  \n",
      "2     False   False  \n",
      "3     False   False  \n",
      "4     False   False  \n",
      "..      ...     ...  \n",
      "822   False   False  \n",
      "823   False   False  \n",
      "824   False   False  \n",
      "825   False   False  \n",
      "826   False   False  \n",
      "\n",
      "[827 rows x 9000 columns]\n",
      "Total number of zero values: 10500\n"
     ]
    }
   ],
   "source": [
    "# Check if there are any zero values in the entire DataFrame\n",
    "zero_values = (x == 0)\n",
    "print(\"Zero values present in the DataFrame:\\n\", zero_values)\n",
    "\n",
    "# Count the number of zero values\n",
    "num_zero_values = zero_values.sum().sum()\n",
    "print(f\"Total number of zero values: {num_zero_values}\")"
   ]
  },
  {
   "cell_type": "markdown",
   "metadata": {},
   "source": [
    "Check outliers after powertransformation"
   ]
  },
  {
   "cell_type": "code",
   "execution_count": 8,
   "metadata": {},
   "outputs": [
    {
     "ename": "InvalidIndexError",
     "evalue": "(slice(None, None, None), slice(1, 50, None))",
     "output_type": "error",
     "traceback": [
      "\u001b[1;31m---------------------------------------------------------------------------\u001b[0m",
      "\u001b[1;31mKeyError\u001b[0m                                  Traceback (most recent call last)",
      "File \u001b[1;32mc:\\Users\\tamar\\miniconda3\\Lib\\site-packages\\pandas\\core\\indexes\\base.py:3805\u001b[0m, in \u001b[0;36mIndex.get_loc\u001b[1;34m(self, key)\u001b[0m\n\u001b[0;32m   3804\u001b[0m \u001b[38;5;28;01mtry\u001b[39;00m:\n\u001b[1;32m-> 3805\u001b[0m     \u001b[38;5;28;01mreturn\u001b[39;00m \u001b[38;5;28mself\u001b[39m\u001b[38;5;241m.\u001b[39m_engine\u001b[38;5;241m.\u001b[39mget_loc(casted_key)\n\u001b[0;32m   3806\u001b[0m \u001b[38;5;28;01mexcept\u001b[39;00m \u001b[38;5;167;01mKeyError\u001b[39;00m \u001b[38;5;28;01mas\u001b[39;00m err:\n",
      "File \u001b[1;32mindex.pyx:167\u001b[0m, in \u001b[0;36mpandas._libs.index.IndexEngine.get_loc\u001b[1;34m()\u001b[0m\n",
      "File \u001b[1;32mindex.pyx:196\u001b[0m, in \u001b[0;36mpandas._libs.index.IndexEngine.get_loc\u001b[1;34m()\u001b[0m\n",
      "File \u001b[1;32mpandas\\\\_libs\\\\hashtable_class_helper.pxi:7081\u001b[0m, in \u001b[0;36mpandas._libs.hashtable.PyObjectHashTable.get_item\u001b[1;34m()\u001b[0m\n",
      "File \u001b[1;32mpandas\\\\_libs\\\\hashtable_class_helper.pxi:7089\u001b[0m, in \u001b[0;36mpandas._libs.hashtable.PyObjectHashTable.get_item\u001b[1;34m()\u001b[0m\n",
      "\u001b[1;31mKeyError\u001b[0m: (slice(None, None, None), slice(1, 50, None))",
      "\nDuring handling of the above exception, another exception occurred:\n",
      "\u001b[1;31mInvalidIndexError\u001b[0m                         Traceback (most recent call last)",
      "Cell \u001b[1;32mIn[8], line 6\u001b[0m\n\u001b[0;32m      3\u001b[0m X_test_transformed \u001b[38;5;241m=\u001b[39m power_transformer\u001b[38;5;241m.\u001b[39mtransform(X_test)\n\u001b[0;32m      5\u001b[0m \u001b[38;5;66;03m# Calculate the Z-scores for each feature\u001b[39;00m\n\u001b[1;32m----> 6\u001b[0m z_scores \u001b[38;5;241m=\u001b[39m np\u001b[38;5;241m.\u001b[39mabs(zscore(X_train[:,\u001b[38;5;241m1\u001b[39m:\u001b[38;5;241m50\u001b[39m]))\n\u001b[0;32m      8\u001b[0m \u001b[38;5;66;03m# Identify outliers (Z > 3 for each feature)\u001b[39;00m\n\u001b[0;32m      9\u001b[0m outliers \u001b[38;5;241m=\u001b[39m (z_scores \u001b[38;5;241m>\u001b[39m \u001b[38;5;241m3\u001b[39m)\n",
      "File \u001b[1;32mc:\\Users\\tamar\\miniconda3\\Lib\\site-packages\\pandas\\core\\frame.py:4102\u001b[0m, in \u001b[0;36mDataFrame.__getitem__\u001b[1;34m(self, key)\u001b[0m\n\u001b[0;32m   4100\u001b[0m \u001b[38;5;28;01mif\u001b[39;00m \u001b[38;5;28mself\u001b[39m\u001b[38;5;241m.\u001b[39mcolumns\u001b[38;5;241m.\u001b[39mnlevels \u001b[38;5;241m>\u001b[39m \u001b[38;5;241m1\u001b[39m:\n\u001b[0;32m   4101\u001b[0m     \u001b[38;5;28;01mreturn\u001b[39;00m \u001b[38;5;28mself\u001b[39m\u001b[38;5;241m.\u001b[39m_getitem_multilevel(key)\n\u001b[1;32m-> 4102\u001b[0m indexer \u001b[38;5;241m=\u001b[39m \u001b[38;5;28mself\u001b[39m\u001b[38;5;241m.\u001b[39mcolumns\u001b[38;5;241m.\u001b[39mget_loc(key)\n\u001b[0;32m   4103\u001b[0m \u001b[38;5;28;01mif\u001b[39;00m is_integer(indexer):\n\u001b[0;32m   4104\u001b[0m     indexer \u001b[38;5;241m=\u001b[39m [indexer]\n",
      "File \u001b[1;32mc:\\Users\\tamar\\miniconda3\\Lib\\site-packages\\pandas\\core\\indexes\\base.py:3811\u001b[0m, in \u001b[0;36mIndex.get_loc\u001b[1;34m(self, key)\u001b[0m\n\u001b[0;32m   3806\u001b[0m \u001b[38;5;28;01mexcept\u001b[39;00m \u001b[38;5;167;01mKeyError\u001b[39;00m \u001b[38;5;28;01mas\u001b[39;00m err:\n\u001b[0;32m   3807\u001b[0m     \u001b[38;5;28;01mif\u001b[39;00m \u001b[38;5;28misinstance\u001b[39m(casted_key, \u001b[38;5;28mslice\u001b[39m) \u001b[38;5;129;01mor\u001b[39;00m (\n\u001b[0;32m   3808\u001b[0m         \u001b[38;5;28misinstance\u001b[39m(casted_key, abc\u001b[38;5;241m.\u001b[39mIterable)\n\u001b[0;32m   3809\u001b[0m         \u001b[38;5;129;01mand\u001b[39;00m \u001b[38;5;28many\u001b[39m(\u001b[38;5;28misinstance\u001b[39m(x, \u001b[38;5;28mslice\u001b[39m) \u001b[38;5;28;01mfor\u001b[39;00m x \u001b[38;5;129;01min\u001b[39;00m casted_key)\n\u001b[0;32m   3810\u001b[0m     ):\n\u001b[1;32m-> 3811\u001b[0m         \u001b[38;5;28;01mraise\u001b[39;00m InvalidIndexError(key)\n\u001b[0;32m   3812\u001b[0m     \u001b[38;5;28;01mraise\u001b[39;00m \u001b[38;5;167;01mKeyError\u001b[39;00m(key) \u001b[38;5;28;01mfrom\u001b[39;00m \u001b[38;5;21;01merr\u001b[39;00m\n\u001b[0;32m   3813\u001b[0m \u001b[38;5;28;01mexcept\u001b[39;00m \u001b[38;5;167;01mTypeError\u001b[39;00m:\n\u001b[0;32m   3814\u001b[0m     \u001b[38;5;66;03m# If we have a listlike key, _check_indexing_error will raise\u001b[39;00m\n\u001b[0;32m   3815\u001b[0m     \u001b[38;5;66;03m#  InvalidIndexError. Otherwise we fall through and re-raise\u001b[39;00m\n\u001b[0;32m   3816\u001b[0m     \u001b[38;5;66;03m#  the TypeError.\u001b[39;00m\n",
      "\u001b[1;31mInvalidIndexError\u001b[0m: (slice(None, None, None), slice(1, 50, None))"
     ]
    }
   ],
   "source": [
    "power_transformer = PowerTransformer(method='yeo-johnson')\n",
    "X_train_transformed = power_transformer.fit_transform(X_train)\n",
    "X_test_transformed = power_transformer.transform(X_test)\n",
    "\n",
    "# Calculate the Z-scores for each feature\n",
    "z_scores = np.abs(zscore(X_train[:,1:50]))\n",
    "\n",
    "# Identify outliers (Z > 3 for each feature)\n",
    "outliers = (z_scores > 3)\n",
    "\n",
    "# Count the number of outliers for each feature\n",
    "outliers_count = np.sum(outliers, axis=0)\n",
    "print(f\"Number of outliers per feature: {outliers_count}\")"
   ]
  }
 ],
 "metadata": {
  "kernelspec": {
   "display_name": "base",
   "language": "python",
   "name": "python3"
  },
  "language_info": {
   "codemirror_mode": {
    "name": "ipython",
    "version": 3
   },
   "file_extension": ".py",
   "mimetype": "text/x-python",
   "name": "python",
   "nbconvert_exporter": "python",
   "pygments_lexer": "ipython3",
   "version": "3.12.8"
  }
 },
 "nbformat": 4,
 "nbformat_minor": 2
}
