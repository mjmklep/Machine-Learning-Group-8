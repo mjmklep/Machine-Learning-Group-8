{
 "cells": [
  {
   "cell_type": "markdown",
   "metadata": {},
   "source": [
    "Import modules"
   ]
  },
  {
   "cell_type": "code",
   "execution_count": 2,
   "metadata": {},
   "outputs": [],
   "source": [
    "# import part\n",
    "import zipfile\n",
    "import os\n",
    "import pandas as pd\n",
    "import scipy.stats as stats\n",
    "import seaborn as sns\n",
    "import matplotlib.pyplot as plt\n",
    "import numpy as np\n",
    "from scipy.stats import normaltest, shapiro\n",
    "from sklearn.ensemble import RandomForestClassifier\n",
    "from sklearn.model_selection import StratifiedKFold, train_test_split, RandomizedSearchCV\n",
    "from sklearn.feature_selection import SelectKBest, f_classif, RFE, mutual_info_classif, RFECV\n",
    "from sklearn.discriminant_analysis import LinearDiscriminantAnalysis\n",
    "from sklearn.pipeline import Pipeline\n"
   ]
  },
  {
   "cell_type": "markdown",
   "metadata": {},
   "source": [
    "Import data and split data"
   ]
  },
  {
   "cell_type": "code",
   "execution_count": 3,
   "metadata": {},
   "outputs": [],
   "source": [
    "with zipfile.ZipFile('tm10007_ml/ecg/ecg_data.zip', 'r') as zip_ref:\n",
    "    zip_ref.extractall('tm10007_ml/ecg')\n",
    "\n",
    "data = pd.read_csv('/content/tm10007_ml/ecg/ecg_data.csv', index_col=0)\n",
    "\n",
    "labels = data.iloc[:,-1]\n",
    "x = data.iloc[:,:-1]\n",
    "\n",
    "X_train, X_test, y_train, y_test = train_test_split(x, labels, test_size=0.25, stratify=labels, random_state=42)"
   ]
  },
  {
   "cell_type": "markdown",
   "metadata": {},
   "source": [
    "How many features are normally distributed with and without transformation?"
   ]
  },
  {
   "cell_type": "code",
   "execution_count": 4,
   "metadata": {},
   "outputs": [
    {
     "name": "stdout",
     "output_type": "stream",
     "text": [
      "Normal Features: 0\n",
      "Non-Normal Features: 9000\n",
      "Transformed Normal Features: 400\n",
      "Transformed Non-Normal Features: 8600\n"
     ]
    }
   ],
   "source": [
    "normal_features = []\n",
    "non_normal_features = []\n",
    "\n",
    "for feature in X_train.columns:  \n",
    "    stat, p = shapiro(X_train[feature])\n",
    "    if p > 0.05:\n",
    "        normal_features.append(feature)\n",
    "    else:\n",
    "        non_normal_features.append(feature)\n",
    "\n",
    "print(f\"Normal Features: {len(normal_features)}\")\n",
    "print(f\"Non-Normal Features: {len(non_normal_features)}\")\n",
    "\n",
    "t_normal_features = []\n",
    "t_non_normal_features = []\n",
    "\n",
    "data_transformed = np.log1p(X_train)\n",
    "for feature in data_transformed.columns: \n",
    "    stat, p = shapiro(data_transformed[feature])  \n",
    "    if p > 0.05:\n",
    "        t_normal_features.append(feature)\n",
    "    else:\n",
    "        t_non_normal_features.append(feature)\n",
    "\n",
    "print(f\"Transformed Normal Features: {len(t_normal_features)}\")\n",
    "print(f\"Transformed Non-Normal Features: {len(t_non_normal_features)}\")"
   ]
  },
  {
   "cell_type": "markdown",
   "metadata": {},
   "source": [
    "Look at correlation heatmap to see if PCA is needed"
   ]
  },
  {
   "cell_type": "code",
   "execution_count": null,
   "metadata": {},
   "outputs": [
    {
     "data": {
      "image/png": "[encoded data removed]",
      "text/plain": [
       "<Figure size 1200x800 with 2 Axes>"
      ]
     },
     "metadata": {},
     "output_type": "display_data"
    }
   ],
   "source": [
    "# Compute correlation matrix\n",
    "correlation_matrix = X_train.corr()\n",
    "\n",
    "plt.figure(figsize=(12, 8))\n",
    "sns.heatmap(correlation_matrix.iloc[:10, :10], cmap=\"coolwarm\", center=0, vmin=-1, vmax=1)\n",
    "plt.title(\"Feature Correlation Heatmap\")\n",
    "plt.show()"
   ]
  },
  {
   "cell_type": "markdown",
   "metadata": {},
   "source": [
    "When selecting the best 400 features are these normally distributed? Method: mutual_info_classif and RFECV"
   ]
  },
  {
   "cell_type": "code",
   "execution_count": 7,
   "metadata": {},
   "outputs": [
    {
     "name": "stdout",
     "output_type": "stream",
     "text": [
      "Normal Features: 0\n",
      "Non-Normal Features: 1\n"
     ]
    }
   ],
   "source": [
    "# Select top 400 features with the highest F-statistic\n",
    "selector = SelectKBest(score_func=mutual_info_classif, k=400)\n",
    "X_train_selected = selector.fit_transform(X_train, y_train)\n",
    "\n",
    "# Use LDA as the estimator (since it's similar to QDA but more stable for feature selection)\n",
    "lda = LinearDiscriminantAnalysis()  # LDA as a baseline for QDA\n",
    "\n",
    "# Cross-validation\n",
    "cv = StratifiedKFold(n_splits=5)\n",
    "\n",
    "rfecv = RFECV(estimator=lda, step=1, cv=cv, scoring='accuracy', n_jobs=-1)\n",
    "X_train_final = rfecv.fit_transform(X_train_selected, y_train)\n",
    "X_train_final = np.log1p(X_train_final)\n",
    "\n",
    "# Check normality\n",
    "normal_features = []\n",
    "non_normal_features = []\n",
    "\n",
    "for feature in range(X_train_final.shape[1]):\n",
    "    stat, p = shapiro(X_train_final[:, feature])\n",
    "    if p > 0.05:\n",
    "        normal_features.append(feature)\n",
    "    else:\n",
    "        non_normal_features.append(feature)\n",
    "\n",
    "print(f\"Normal Features: {len(normal_features)}\")\n",
    "print(f\"Non-Normal Features: {len(non_normal_features)}\")"
   ]
  },
  {
   "cell_type": "markdown",
   "metadata": {},
   "source": [
    "When selecting the best 400 features are these normally distributed? Method: mutual_info_classif and RFE"
   ]
  },
  {
   "cell_type": "code",
   "execution_count": 8,
   "metadata": {},
   "outputs": [
    {
     "name": "stdout",
     "output_type": "stream",
     "text": [
      "Normal Features: 0\n",
      "Non-Normal Features: 100\n"
     ]
    }
   ],
   "source": [
    "# Select top 400 features with the highest F-statistic\n",
    "selector = SelectKBest(score_func=mutual_info_classif, k=400)\n",
    "X_train_selected = selector.fit_transform(X_train, y_train)\n",
    "\n",
    "# Use LDA as the estimator (since it's similar to QDA but more stable for feature selection)\n",
    "lda = LinearDiscriminantAnalysis()  # LDA as a baseline for QDA\n",
    "\n",
    "rfe = RFE(estimator=lda, n_features_to_select=100)\n",
    "X_train_final = rfe.fit_transform(X_train_selected, y_train)\n",
    "X_train_final = np.log1p(X_train_final)\n",
    "\n",
    "# Check normality\n",
    "normal_features = []\n",
    "non_normal_features = []\n",
    "\n",
    "for feature in range(X_train_final.shape[1]):\n",
    "    stat, p = shapiro(X_train_final[:, feature])\n",
    "    if p > 0.05:\n",
    "        normal_features.append(feature)\n",
    "    else:\n",
    "        non_normal_features.append(feature)\n",
    "\n",
    "print(f\"Normal Features: {len(normal_features)}\")\n",
    "print(f\"Non-Normal Features: {len(non_normal_features)}\")"
   ]
  }
 ],
 "metadata": {
  "kernelspec": {
   "display_name": "base",
   "language": "python",
   "name": "python3"
  },
  "language_info": {
   "codemirror_mode": {
    "name": "ipython",
    "version": 3
   },
   "file_extension": ".py",
   "mimetype": "text/x-python",
   "name": "python",
   "nbconvert_exporter": "python",
   "pygments_lexer": "ipython3",
   "version": "3.12.8"
  }
 },
 "nbformat": 4,
 "nbformat_minor": 2
}
