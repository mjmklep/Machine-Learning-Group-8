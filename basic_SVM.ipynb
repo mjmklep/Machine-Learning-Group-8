{
 "cells": [
  {
   "cell_type": "markdown",
   "metadata": {},
   "source": [
    "Basic SVM"
   ]
  },
  {
   "cell_type": "code",
   "execution_count": null,
   "metadata": {},
   "outputs": [],
   "source": [
    "import zipfile\n",
    "import pandas as pd\n",
    "import os\n",
    "\n",
    "# General packages\n",
    "import numpy as np\n",
    "import matplotlib.pyplot as plt\n",
    "from sklearn import datasets as ds\n",
    "from sklearn import metrics\n",
    "from sklearn import model_selection\n",
    "\n",
    "# Classifiers\n",
    "from sklearn.neighbors import KNeighborsClassifier\n",
    "from sklearn.ensemble import RandomForestClassifier\n",
    "from sklearn.svm import SVC\n",
    "from sklearn.feature_selection import RFECV, SelectKBest, SelectFdr, chi2, f_classif, mutual_info_classif\n",
    "from sklearn.pipeline import Pipeline\n",
    "from sklearn.preprocessing import StandardScaler, MinMaxScaler, RobustScaler\n",
    "from sklearn.model_selection import RandomizedSearchCV, StratifiedKFold, learning_curve\n",
    "from sklearn import svm\n",
    "from sklearn.metrics import confusion_matrix, ConfusionMatrixDisplay\n",
    "from sklearn.metrics import accuracy_score, f1_score, precision_score, recall_score, roc_auc_score"
   ]
  },
  {
   "cell_type": "code",
   "execution_count": null,
   "metadata": {},
   "outputs": [],
   "source": [
    "# Load data\n",
    "with zipfile.ZipFile(os.path.join('tm10007_ml','ecg','ecg_data.zip'), 'r') as zip_ref:\n",
    "    zip_ref.extractall('/content/tm10007_ml/ecg')\n",
    "\n",
    "data = pd.read_csv('/content/tm10007_ml/ecg/ecg_data.csv', index_col=0)\n",
    "\n",
    "# Divide data into test and train\n",
    "labels = data.iloc[:,-1]\n",
    "x = data.iloc[:,:-1]\n",
    "\n",
    "X_train, X_test, y_train, y_test = model_selection.train_test_split(x, labels, test_size=0.25, stratify=labels, random_state=42)\n"
   ]
  },
  {
   "cell_type": "code",
   "execution_count": 22,
   "metadata": {},
   "outputs": [
    {
     "name": "stdout",
     "output_type": "stream",
     "text": [
      "Number of Features Selected after RFECV: 145\n"
     ]
    }
   ],
   "source": [
    "# ====== PRE-FEATURE SELECTION (Before Pipeline) ======\n",
    "selector = SelectKBest(score_func=f_classif, k=400)  # Select top 400 features\n",
    "X_train_reduced = selector.fit_transform(X_train, y_train)\n",
    "X_test_reduced = selector.transform(X_test)  # Apply same transformation to test data\n",
    "\n",
    "# ====== PIPELINE CHARACTERISTICS ======\n",
    "scaler = RobustScaler()\n",
    "svm = SVC(kernel=\"linear\", random_state=42)\n",
    "cv = StratifiedKFold(n_splits=5)\n",
    "rfecv = RFECV(estimator=svm, step=5, cv=cv, scoring='accuracy')\n",
    "\n",
    "# Create a pipeline with feature selection, scaling, and SVM classification\n",
    "pipeline = Pipeline([\n",
    "    ('scaler', scaler),\n",
    "    ('feature_selection', rfecv),  # RFECV for feature selection\n",
    "    ('svm', svm)\n",
    "])\n",
    "\n",
    "# Train the model on the reduced features (X_train_reduced)\n",
    "pipeline.fit(X_train_reduced, y_train)\n",
    "\n",
    "# Predictions\n",
    "y_pred = pipeline.predict(X_train_reduced)\n",
    "\n",
    "selected_features = np.where(rfecv.support_)[0]\n",
    "print(f\"Number of Features Selected after RFECV: {len(selected_features)}\")"
   ]
  }
 ],
 "metadata": {
  "kernelspec": {
   "display_name": "base",
   "language": "python",
   "name": "python3"
  },
  "language_info": {
   "codemirror_mode": {
    "name": "ipython",
    "version": 3
   },
   "file_extension": ".py",
   "mimetype": "text/x-python",
   "name": "python",
   "nbconvert_exporter": "python",
   "pygments_lexer": "ipython3",
   "version": "3.12.8"
  }
 },
 "nbformat": 4,
 "nbformat_minor": 2
}
