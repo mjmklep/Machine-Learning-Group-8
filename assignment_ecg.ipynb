{
  "cells": [
    {
      "cell_type": "markdown",
      "metadata": {
        "id": "7SXpaKwwGe5x"
      },
      "source": [
        "# TM10007 Assignment template -- ECG data"
      ]
    },
    {
      "cell_type": "markdown",
      "metadata": {
        "id": "f-GtqRVRtue-"
      },
      "source": [
        "## Data loading and cleaning\n",
        "\n",
        "Below are functions to load the dataset of your choice. After that, it is all up to you to create and evaluate a classification method. Beware, there may be missing values in these datasets. Good luck!"
      ]
    },
    {
      "cell_type": "code",
      "execution_count": 2,
      "metadata": {
        "colab": {
          "base_uri": "https://localhost:8080/"
        },
        "id": "CiDn2Sk-VWqE",
        "outputId": "8424b745-ac90-48f6-bf04-b975acc2afbf"
      },
      "outputs": [
        {
          "name": "stdout",
          "output_type": "stream",
          "text": [
            "The number of samples: 827\n",
            "The number of columns: 9001\n"
          ]
        }
      ],
      "source": [
        "import zipfile\n",
        "import pandas as pd\n",
        "import os\n",
        "\n",
        "with zipfile.ZipFile(os.path.join('tm10007_ml','ecg','ecg_data.zip'), 'r') as zip_ref:\n",
        "    zip_ref.extractall('/content/tm10007_ml/ecg')\n",
        "\n",
        "data = pd.read_csv('/content/tm10007_ml/ecg/ecg_data.csv', index_col=0)\n",
        "\n",
        "print(f'The number of samples: {len(data.index)}')\n",
        "print(f'The number of columns: {len(data.columns)}')"
      ]
    },
    {
      "cell_type": "code",
      "execution_count": null,
      "metadata": {},
      "outputs": [],
      "source": [
        "# General packages\n",
        "import numpy as np\n",
        "import matplotlib.pyplot as plt\n",
        "from sklearn import datasets as ds\n",
        "from sklearn import metrics\n",
        "from sklearn import model_selection\n",
        "\n",
        "# Classifiers\n",
        "from sklearn.naive_bayes import GaussianNB\n",
        "from sklearn.discriminant_analysis import LinearDiscriminantAnalysis\n",
        "from sklearn.discriminant_analysis import QuadraticDiscriminantAnalysis\n",
        "from sklearn.linear_model import LogisticRegression\n",
        "from sklearn.linear_model import SGDClassifier\n",
        "from sklearn.tree import DecisionTreeClassifier\n",
        "from sklearn.neighbors import KNeighborsClassifier\n",
        "from sklearn.ensemble import RandomForestClassifier\n",
        "from sklearn.svm import SVC\n",
        "from sklearn.feature_selection import RFECV, SelectKBest, SelectFdr, chi2, f_classif\n",
        "from sklearn.pipeline import Pipeline"
      ]
    },
    {
      "cell_type": "code",
      "execution_count": 4,
      "metadata": {},
      "outputs": [
        {
          "name": "stdout",
          "output_type": "stream",
          "text": [
            "(207, 9000)\n",
            "(620, 9000)\n"
          ]
        }
      ],
      "source": [
        "labels = data.iloc[:,-1]\n",
        "x = data.iloc[:,:-1]\n",
        "\n",
        "X_train, X_test, y_train, y_test = model_selection.train_test_split(x, labels, test_size=0.25, stratify=labels, random_state=42)\n",
        "print(X_test.shape)\n",
        "print(X_train.shape)"
      ]
    },
    {
      "cell_type": "code",
      "execution_count": null,
      "metadata": {},
      "outputs": [
        {
          "name": "stdout",
          "output_type": "stream",
          "text": [
            "(620, 100)\n"
          ]
        }
      ],
      "source": [
        "pipe = Pipeline\n",
        "X_train_selected = SelectKBest(f_classif).fit_transform(X_train, y_train)\n",
        "\n"
      ]
    },
    {
      "cell_type": "code",
      "execution_count": 23,
      "metadata": {},
      "outputs": [
        {
          "name": "stdout",
          "output_type": "stream",
          "text": [
            "<class 'sklearn.discriminant_analysis.LinearDiscriminantAnalysis'>\n",
            "Acc:0.8357487922705314\n",
            "AUC:0.7488076311605725\n",
            "F1:0.39285714285714285\n",
            "precision:0.5789473684210527\n",
            "recall:0.2972972972972973\n"
          ]
        },
        {
          "name": "stderr",
          "output_type": "stream",
          "text": [
            "c:\\Users\\timot\\anaconda3\\Lib\\site-packages\\sklearn\\discriminant_analysis.py:1024: LinAlgWarning: The covariance matrix of class 0 is not full rank. Increasing the value of parameter `reg_param` might help reducing the collinearity.\n",
            "  warnings.warn(\n",
            "c:\\Users\\timot\\anaconda3\\Lib\\site-packages\\sklearn\\discriminant_analysis.py:1024: LinAlgWarning: The covariance matrix of class 1 is not full rank. Increasing the value of parameter `reg_param` might help reducing the collinearity.\n",
            "  warnings.warn(\n"
          ]
        },
        {
          "name": "stdout",
          "output_type": "stream",
          "text": [
            "<class 'sklearn.discriminant_analysis.QuadraticDiscriminantAnalysis'>\n",
            "Acc:0.4927536231884058\n",
            "AUC:0.4585850556438792\n",
            "F1:0.2222222222222222\n",
            "precision:0.15306122448979592\n",
            "recall:0.40540540540540543\n",
            "<class 'sklearn.naive_bayes.GaussianNB'>\n",
            "Acc:0.2318840579710145\n",
            "AUC:0.479093799682035\n",
            "F1:0.28699551569506726\n",
            "precision:0.17204301075268819\n",
            "recall:0.8648648648648649\n"
          ]
        },
        {
          "name": "stderr",
          "output_type": "stream",
          "text": [
            "c:\\Users\\timot\\anaconda3\\Lib\\site-packages\\sklearn\\linear_model\\_logistic.py:465: ConvergenceWarning: lbfgs failed to converge (status=1):\n",
            "STOP: TOTAL NO. of ITERATIONS REACHED LIMIT.\n",
            "\n",
            "Increase the number of iterations (max_iter) or scale the data as shown in:\n",
            "    https://scikit-learn.org/stable/modules/preprocessing.html\n",
            "Please also refer to the documentation for alternative solver options:\n",
            "    https://scikit-learn.org/stable/modules/linear_model.html#logistic-regression\n",
            "  n_iter_i = _check_optimize_result(\n"
          ]
        },
        {
          "name": "stdout",
          "output_type": "stream",
          "text": [
            "<class 'sklearn.linear_model._logistic.LogisticRegression'>\n",
            "Acc:0.8019323671497585\n",
            "AUC:0.7901430842607312\n",
            "F1:0.4675324675324675\n",
            "precision:0.45\n",
            "recall:0.4864864864864865\n",
            "<class 'sklearn.neighbors._classification.KNeighborsClassifier'>\n",
            "Acc:0.8260869565217391\n",
            "AUC:0.6135135135135136\n",
            "F1:0.14285714285714285\n",
            "precision:0.6\n",
            "recall:0.08108108108108109\n",
            "<class 'sklearn.ensemble._forest.RandomForestClassifier'>\n",
            "Acc:0.8405797101449275\n",
            "AUC:0.7329888712241655\n",
            "F1:0.1951219512195122\n",
            "precision:1.0\n",
            "recall:0.10810810810810811\n"
          ]
        }
      ],
      "source": [
        "clsfs = [LinearDiscriminantAnalysis(),QuadraticDiscriminantAnalysis(),GaussianNB(),\n",
        "         LogisticRegression(),KNeighborsClassifier(), RandomForestClassifier()]\n",
        "\n",
        "for clf in clsfs:\n",
        "    classifier = clf.fit(X_train, y_train)\n",
        "    y_pred_train = classifier.predict(X_train)\n",
        "    y_pred_test = classifier.predict(X_test)\n",
        "    y_score_train = classifier.predict_proba(X_train)[:,1]\n",
        "    y_score_test = classifier.predict_proba(X_test)[:,1]\n",
        "\n",
        "    auc=metrics.roc_auc_score(y_test, y_score_test)\n",
        "    accuracy=metrics.accuracy_score(y_test, y_pred_test)\n",
        "    F1=metrics.f1_score(y_test,y_pred_test)\n",
        "    precision=metrics.precision_score(y_test,y_pred_test)\n",
        "    recall=metrics.recall_score(y_test, y_pred_test)\n",
        "\n",
        "    print(type(clf))\n",
        "    print('Acc:' +str(accuracy))\n",
        "    print('AUC:' +str(auc))\n",
        "    print('F1:' +str(F1))\n",
        "    print('precision:' +str(precision))\n",
        "    print('recall:' +str(recall))\n",
        "\n"
      ]
    }
  ],
  "metadata": {
    "colab": {
      "include_colab_link": true,
      "name": "assignment.ipynb",
      "provenance": []
    },
    "kernelspec": {
      "display_name": "base",
      "language": "python",
      "name": "python3"
    },
    "language_info": {
      "codemirror_mode": {
        "name": "ipython",
        "version": 3
      },
      "file_extension": ".py",
      "mimetype": "text/x-python",
      "name": "python",
      "nbconvert_exporter": "python",
      "pygments_lexer": "ipython3",
      "version": "3.12.7"
    }
  },
  "nbformat": 4,
  "nbformat_minor": 0
}
